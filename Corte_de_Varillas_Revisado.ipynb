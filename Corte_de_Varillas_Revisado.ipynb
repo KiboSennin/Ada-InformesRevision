{
  "nbformat": 4,
  "nbformat_minor": 0,
  "metadata": {
    "colab": {
      "provenance": [],
      "authorship_tag": "ABX9TyPP3E5k+pnaZJbf6Tc2/m+5",
      "include_colab_link": true
    },
    "kernelspec": {
      "name": "python3",
      "display_name": "Python 3"
    },
    "language_info": {
      "name": "python"
    }
  },
  "cells": [
    {
      "cell_type": "markdown",
      "metadata": {
        "id": "view-in-github",
        "colab_type": "text"
      },
      "source": [
        "<a href=\"https://colab.research.google.com/github/KiboSennin/Ada-InformesRevision/blob/main/Corte_de_Varillas_Revisado.ipynb\" target=\"_parent\"><img src=\"https://colab.research.google.com/assets/colab-badge.svg\" alt=\"Open In Colab\"/></a>"
      ]
    },
    {
      "cell_type": "markdown",
      "source": [
        "# 1) Descripcion del problema"
      ],
      "metadata": {
        "id": "lMrr-tR0KwL5"
      }
    },
    {
      "cell_type": "markdown",
      "source": [
        "Es un algoritmo que busca la forma mas optima de del corte de una varilla dependiendo de sus necesidades.\n",
        "\n",
        "Por ello vamos a tener una entrada de: el largo de la varilla ademas de los precios de cada corte o medida de la varilla \n",
        "\n",
        "Y como salida vamos a tener: un $r_n$ el cual representa el valor maximo de la combinacion optima para vender la varilla"
      ],
      "metadata": {
        "id": "fo6M1vywLGDG"
      }
    },
    {
      "cell_type": "markdown",
      "source": [
        "## 1.1) Descripcion del algoritmo"
      ],
      "metadata": {
        "id": "PJJb9XjtOoKW"
      }
    },
    {
      "cell_type": "markdown",
      "source": [
        "![image.png](data:image/png;base64,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)"
      ],
      "metadata": {
        "id": "IbQCpKSwOuah"
      }
    },
    {
      "cell_type": "markdown",
      "source": [
        "El algoritmo tenemos que al inicio se genera un arreglo de ceros. Luego, para cada iteracionse crea unaa variable $q = {-∞}$ la cual se usa para poder comparar mas adelante.\n",
        "\n",
        "Cuando tenemos $r[0]$ este valdra $0$ porque una vaarilla de largo 0 no entrega algun tipo de ganancia. Debido a esto laas iteraciones comienzan en $1$, luego se itera sobre otra variable con la que usando la primera se opera sobre el arreglo de entrada, suma el valor del arreglo de $arr[i]$ con el de $r[j - i -1]$, el cual es el arreglo de de los resultados, esa suma la compara con el valor de $q$ para almacenar el maximo entre ellos.\n",
        "\n",
        "Cuando se almacena la suma maxima, tambien asigna el valor de $i$ al arreglo en la posición $s[i]$, dla que guarda los cortes necesarios.\n",
        "\n",
        "Finalmente el algoritmo entrega como resultado el ultimo elemento de los arreglos $rㅤyㅤs$."
      ],
      "metadata": {
        "id": "1uLFKY2iOzwX"
      }
    },
    {
      "cell_type": "markdown",
      "source": [
        "# 2) Codigo"
      ],
      "metadata": {
        "id": "_i5IMCP2HSZU"
      }
    },
    {
      "cell_type": "markdown",
      "source": [
        "## 2.1) Forma recursiva"
      ],
      "metadata": {
        "id": "-TTegJwKH_Cv"
      }
    },
    {
      "cell_type": "code",
      "source": [
        "def revCutRod(arr, largo, verbose = False):\n",
        "  global cont\n",
        "\n",
        "  cont += 1\n",
        "  corte = 0\n",
        "\n",
        "  if largo == 0:\n",
        "    return 0, 0\n",
        "  else:    \n",
        "    q = float(\"-inf\")\n",
        "    for i in range(1, largo + 1):  \n",
        "      temp, _ = revCutRod(arr, largo - i, verbose)\n",
        "      aux = arr[i - 1] + temp \n",
        "      if q < aux:\n",
        "        q = aux\n",
        "        corte = i\n",
        "\n",
        "    if verbose:\n",
        "      print(\"valaor de: \", q)\n",
        "      print(\"Corte: \", corte)\n",
        "\n",
        "  return q, corte"
      ],
      "metadata": {
        "id": "QpDTd-14IBg0"
      },
      "execution_count": 8,
      "outputs": []
    },
    {
      "cell_type": "code",
      "source": [
        "arr = [1, 5, 8, 9, 10, 17, 17, 20]\n",
        "largo = len(arr)\n",
        "cont = 0\n",
        "q, corte = revCutRod(arr, largo)\n",
        "print(\"Maximum Obtainable Value is: \" + str(revCutRod(arr, largo)))\n",
        "print(\"Recursion Call is: \" + str(cont) )\n",
        "print(\"Cortes: \", corte)"
      ],
      "metadata": {
        "colab": {
          "base_uri": "https://localhost:8080/"
        },
        "id": "itaJNJnrgeVG",
        "outputId": "6586a091-e16c-4ef2-e2d2-7ebdf6dccf9b"
      },
      "execution_count": 18,
      "outputs": [
        {
          "output_type": "stream",
          "name": "stdout",
          "text": [
            "Maximum Obtainable Value is: (22, 2)\n",
            "Recursion Call is: 512\n",
            "Cortes:  2\n"
          ]
        }
      ]
    },
    {
      "cell_type": "markdown",
      "source": [
        "## 2.2)Forma programacion dinamica "
      ],
      "metadata": {
        "id": "gDmGgLsaH5zu"
      }
    },
    {
      "cell_type": "code",
      "execution_count": 24,
      "metadata": {
        "id": "TSy-dL_fKvkS"
      },
      "outputs": [],
      "source": [
        "def cutRod(price, n, verbose = False):\n",
        "    val = [0 for x in range(n + 1)]                           \n",
        "    corte = [0 for x in range(n + 1)]\n",
        "\n",
        "    for i in range(1, n + 1):\n",
        "      max_val = float(\"-inf\")\n",
        "      for j in range(i):\n",
        "           max_val = max(max_val, price[j] + val[i-j-1])\n",
        "           corte[i] = j\n",
        "           if verbose:\n",
        "             print(\"Valor q: \", q)\n",
        "             print(f'Cortes: {corte[i]}')\n",
        "           \n",
        "      val[i] = max_val \n",
        "\n",
        "      if verbose:\n",
        "            print(f'Valor de SubProblema {j}: {val[j]}')\n",
        "\n",
        "    return val[n], corte[n]"
      ]
    },
    {
      "cell_type": "code",
      "source": [
        "arr = [1, 5, 8, 9, 10, 17, 17, 20]\n",
        "size = len(arr)\n",
        "precio, corte = cutRod(arr, size)\n",
        "print(\"Ganancia maximizada: \" +str(precio))\n",
        "print(\"Corte: \" +str(corte))"
      ],
      "metadata": {
        "colab": {
          "base_uri": "https://localhost:8080/"
        },
        "id": "JU29MW0veSWt",
        "outputId": "1822c181-bea5-4b9e-ad9a-0dab0c70180b"
      },
      "execution_count": 12,
      "outputs": [
        {
          "output_type": "stream",
          "name": "stdout",
          "text": [
            "Ganancia maximizada: 22\n",
            "Corte: 7\n"
          ]
        }
      ]
    },
    {
      "cell_type": "markdown",
      "source": [
        "## ## 2.3) Verbose = True"
      ],
      "metadata": {
        "id": "ofe-CGuIdbh-"
      }
    },
    {
      "cell_type": "markdown",
      "source": [
        "### 2.3.1) Recursivo"
      ],
      "metadata": {
        "id": "P8Vb6grIdeu_"
      }
    },
    {
      "cell_type": "code",
      "source": [
        "arr = [1, 5, 8, 9, 10, 17, 17, 20]\n",
        "largo = len(arr)\n",
        "cont = 0\n",
        "q, corte = revCutRod(arr, largo, True)\n",
        "print(\"Maximum Obtainable Value is: \" + str(revCutRod(arr, largo)))\n",
        "print(\"Recursion Call is: \" + str(cont) )\n",
        "print(\"Cortes: \", corte)"
      ],
      "metadata": {
        "id": "IaGsWKDwdlwW",
        "outputId": "db263229-3da3-4270-b235-4720ea3dd396",
        "colab": {
          "base_uri": "https://localhost:8080/"
        }
      },
      "execution_count": 17,
      "outputs": [
        {
          "output_type": "stream",
          "name": "stdout",
          "text": [
            "valaor de:  1\n",
            "Corte:  1\n",
            "valaor de:  5\n",
            "Corte:  2\n",
            "valaor de:  1\n",
            "Corte:  1\n",
            "valaor de:  8\n",
            "Corte:  3\n",
            "valaor de:  1\n",
            "Corte:  1\n",
            "valaor de:  5\n",
            "Corte:  2\n",
            "valaor de:  1\n",
            "Corte:  1\n",
            "valaor de:  10\n",
            "Corte:  2\n",
            "valaor de:  1\n",
            "Corte:  1\n",
            "valaor de:  5\n",
            "Corte:  2\n",
            "valaor de:  1\n",
            "Corte:  1\n",
            "valaor de:  8\n",
            "Corte:  3\n",
            "valaor de:  1\n",
            "Corte:  1\n",
            "valaor de:  5\n",
            "Corte:  2\n",
            "valaor de:  1\n",
            "Corte:  1\n",
            "valaor de:  13\n",
            "Corte:  2\n",
            "valaor de:  1\n",
            "Corte:  1\n",
            "valaor de:  5\n",
            "Corte:  2\n",
            "valaor de:  1\n",
            "Corte:  1\n",
            "valaor de:  8\n",
            "Corte:  3\n",
            "valaor de:  1\n",
            "Corte:  1\n",
            "valaor de:  5\n",
            "Corte:  2\n",
            "valaor de:  1\n",
            "Corte:  1\n",
            "valaor de:  10\n",
            "Corte:  2\n",
            "valaor de:  1\n",
            "Corte:  1\n",
            "valaor de:  5\n",
            "Corte:  2\n",
            "valaor de:  1\n",
            "Corte:  1\n",
            "valaor de:  8\n",
            "Corte:  3\n",
            "valaor de:  1\n",
            "Corte:  1\n",
            "valaor de:  5\n",
            "Corte:  2\n",
            "valaor de:  1\n",
            "Corte:  1\n",
            "valaor de:  17\n",
            "Corte:  6\n",
            "valaor de:  1\n",
            "Corte:  1\n",
            "valaor de:  5\n",
            "Corte:  2\n",
            "valaor de:  1\n",
            "Corte:  1\n",
            "valaor de:  8\n",
            "Corte:  3\n",
            "valaor de:  1\n",
            "Corte:  1\n",
            "valaor de:  5\n",
            "Corte:  2\n",
            "valaor de:  1\n",
            "Corte:  1\n",
            "valaor de:  10\n",
            "Corte:  2\n",
            "valaor de:  1\n",
            "Corte:  1\n",
            "valaor de:  5\n",
            "Corte:  2\n",
            "valaor de:  1\n",
            "Corte:  1\n",
            "valaor de:  8\n",
            "Corte:  3\n",
            "valaor de:  1\n",
            "Corte:  1\n",
            "valaor de:  5\n",
            "Corte:  2\n",
            "valaor de:  1\n",
            "Corte:  1\n",
            "valaor de:  13\n",
            "Corte:  2\n",
            "valaor de:  1\n",
            "Corte:  1\n",
            "valaor de:  5\n",
            "Corte:  2\n",
            "valaor de:  1\n",
            "Corte:  1\n",
            "valaor de:  8\n",
            "Corte:  3\n",
            "valaor de:  1\n",
            "Corte:  1\n",
            "valaor de:  5\n",
            "Corte:  2\n",
            "valaor de:  1\n",
            "Corte:  1\n",
            "valaor de:  10\n",
            "Corte:  2\n",
            "valaor de:  1\n",
            "Corte:  1\n",
            "valaor de:  5\n",
            "Corte:  2\n",
            "valaor de:  1\n",
            "Corte:  1\n",
            "valaor de:  8\n",
            "Corte:  3\n",
            "valaor de:  1\n",
            "Corte:  1\n",
            "valaor de:  5\n",
            "Corte:  2\n",
            "valaor de:  1\n",
            "Corte:  1\n",
            "valaor de:  18\n",
            "Corte:  1\n",
            "valaor de:  1\n",
            "Corte:  1\n",
            "valaor de:  5\n",
            "Corte:  2\n",
            "valaor de:  1\n",
            "Corte:  1\n",
            "valaor de:  8\n",
            "Corte:  3\n",
            "valaor de:  1\n",
            "Corte:  1\n",
            "valaor de:  5\n",
            "Corte:  2\n",
            "valaor de:  1\n",
            "Corte:  1\n",
            "valaor de:  10\n",
            "Corte:  2\n",
            "valaor de:  1\n",
            "Corte:  1\n",
            "valaor de:  5\n",
            "Corte:  2\n",
            "valaor de:  1\n",
            "Corte:  1\n",
            "valaor de:  8\n",
            "Corte:  3\n",
            "valaor de:  1\n",
            "Corte:  1\n",
            "valaor de:  5\n",
            "Corte:  2\n",
            "valaor de:  1\n",
            "Corte:  1\n",
            "valaor de:  13\n",
            "Corte:  2\n",
            "valaor de:  1\n",
            "Corte:  1\n",
            "valaor de:  5\n",
            "Corte:  2\n",
            "valaor de:  1\n",
            "Corte:  1\n",
            "valaor de:  8\n",
            "Corte:  3\n",
            "valaor de:  1\n",
            "Corte:  1\n",
            "valaor de:  5\n",
            "Corte:  2\n",
            "valaor de:  1\n",
            "Corte:  1\n",
            "valaor de:  10\n",
            "Corte:  2\n",
            "valaor de:  1\n",
            "Corte:  1\n",
            "valaor de:  5\n",
            "Corte:  2\n",
            "valaor de:  1\n",
            "Corte:  1\n",
            "valaor de:  8\n",
            "Corte:  3\n",
            "valaor de:  1\n",
            "Corte:  1\n",
            "valaor de:  5\n",
            "Corte:  2\n",
            "valaor de:  1\n",
            "Corte:  1\n",
            "valaor de:  17\n",
            "Corte:  6\n",
            "valaor de:  1\n",
            "Corte:  1\n",
            "valaor de:  5\n",
            "Corte:  2\n",
            "valaor de:  1\n",
            "Corte:  1\n",
            "valaor de:  8\n",
            "Corte:  3\n",
            "valaor de:  1\n",
            "Corte:  1\n",
            "valaor de:  5\n",
            "Corte:  2\n",
            "valaor de:  1\n",
            "Corte:  1\n",
            "valaor de:  10\n",
            "Corte:  2\n",
            "valaor de:  1\n",
            "Corte:  1\n",
            "valaor de:  5\n",
            "Corte:  2\n",
            "valaor de:  1\n",
            "Corte:  1\n",
            "valaor de:  8\n",
            "Corte:  3\n",
            "valaor de:  1\n",
            "Corte:  1\n",
            "valaor de:  5\n",
            "Corte:  2\n",
            "valaor de:  1\n",
            "Corte:  1\n",
            "valaor de:  13\n",
            "Corte:  2\n",
            "valaor de:  1\n",
            "Corte:  1\n",
            "valaor de:  5\n",
            "Corte:  2\n",
            "valaor de:  1\n",
            "Corte:  1\n",
            "valaor de:  8\n",
            "Corte:  3\n",
            "valaor de:  1\n",
            "Corte:  1\n",
            "valaor de:  5\n",
            "Corte:  2\n",
            "valaor de:  1\n",
            "Corte:  1\n",
            "valaor de:  10\n",
            "Corte:  2\n",
            "valaor de:  1\n",
            "Corte:  1\n",
            "valaor de:  5\n",
            "Corte:  2\n",
            "valaor de:  1\n",
            "Corte:  1\n",
            "valaor de:  8\n",
            "Corte:  3\n",
            "valaor de:  1\n",
            "Corte:  1\n",
            "valaor de:  5\n",
            "Corte:  2\n",
            "valaor de:  1\n",
            "Corte:  1\n",
            "valaor de:  22\n",
            "Corte:  2\n",
            "Maximum Obtainable Value is: (22, 2)\n",
            "Recursion Call is: 512\n",
            "Cortes:  2\n"
          ]
        }
      ]
    },
    {
      "cell_type": "markdown",
      "source": [
        "### 2.3.2) Dinamico"
      ],
      "metadata": {
        "id": "YaXKFtAPdtPl"
      }
    },
    {
      "cell_type": "code",
      "source": [
        "arr = [1, 5, 8, 9, 10, 17, 17, 20]\n",
        "size = len(arr)\n",
        "precio, corte = cutRod(arr, size, True)\n",
        "print(\"Ganancia maximizada: \" +str(precio))\n",
        "print(\"Corte: \" +str(corte))"
      ],
      "metadata": {
        "id": "5E67KcSnfdg3",
        "outputId": "5f66e337-3747-4f65-9571-cb88f9c0c7c6",
        "colab": {
          "base_uri": "https://localhost:8080/"
        }
      },
      "execution_count": 25,
      "outputs": [
        {
          "output_type": "stream",
          "name": "stdout",
          "text": [
            "Valor q:  22\n",
            "Cortes: 0\n",
            "valor del subproblema 0: 0\n",
            "Valor q:  22\n",
            "Cortes: 0\n",
            "Valor q:  22\n",
            "Cortes: 1\n",
            "valor del subproblema 1: 1\n",
            "Valor q:  22\n",
            "Cortes: 0\n",
            "Valor q:  22\n",
            "Cortes: 1\n",
            "Valor q:  22\n",
            "Cortes: 2\n",
            "valor del subproblema 2: 5\n",
            "Valor q:  22\n",
            "Cortes: 0\n",
            "Valor q:  22\n",
            "Cortes: 1\n",
            "Valor q:  22\n",
            "Cortes: 2\n",
            "Valor q:  22\n",
            "Cortes: 3\n",
            "valor del subproblema 3: 8\n",
            "Valor q:  22\n",
            "Cortes: 0\n",
            "Valor q:  22\n",
            "Cortes: 1\n",
            "Valor q:  22\n",
            "Cortes: 2\n",
            "Valor q:  22\n",
            "Cortes: 3\n",
            "Valor q:  22\n",
            "Cortes: 4\n",
            "valor del subproblema 4: 10\n",
            "Valor q:  22\n",
            "Cortes: 0\n",
            "Valor q:  22\n",
            "Cortes: 1\n",
            "Valor q:  22\n",
            "Cortes: 2\n",
            "Valor q:  22\n",
            "Cortes: 3\n",
            "Valor q:  22\n",
            "Cortes: 4\n",
            "Valor q:  22\n",
            "Cortes: 5\n",
            "valor del subproblema 5: 13\n",
            "Valor q:  22\n",
            "Cortes: 0\n",
            "Valor q:  22\n",
            "Cortes: 1\n",
            "Valor q:  22\n",
            "Cortes: 2\n",
            "Valor q:  22\n",
            "Cortes: 3\n",
            "Valor q:  22\n",
            "Cortes: 4\n",
            "Valor q:  22\n",
            "Cortes: 5\n",
            "Valor q:  22\n",
            "Cortes: 6\n",
            "valor del subproblema 6: 17\n",
            "Valor q:  22\n",
            "Cortes: 0\n",
            "Valor q:  22\n",
            "Cortes: 1\n",
            "Valor q:  22\n",
            "Cortes: 2\n",
            "Valor q:  22\n",
            "Cortes: 3\n",
            "Valor q:  22\n",
            "Cortes: 4\n",
            "Valor q:  22\n",
            "Cortes: 5\n",
            "Valor q:  22\n",
            "Cortes: 6\n",
            "Valor q:  22\n",
            "Cortes: 7\n",
            "valor del subproblema 7: 18\n",
            "Ganancia maximizada: 22\n",
            "Corte: 7\n"
          ]
        }
      ]
    },
    {
      "cell_type": "markdown",
      "source": [
        "# 3) Tiempo de ejecucion"
      ],
      "metadata": {
        "id": "pSvYh3oBQAob"
      }
    },
    {
      "cell_type": "markdown",
      "source": [
        "* ***Tiempo de ejecucion para version dinamica***"
      ],
      "metadata": {
        "id": "OnwSBRdkRNeF"
      }
    },
    {
      "cell_type": "markdown",
      "source": [
        "La complejidad temporal para este algoritmo en su forma de programación dinamica es de $O(n^2)$\n",
        "\n",
        "Esto es debido a la sumatoria resultande de analizar el pseudo código"
      ],
      "metadata": {
        "id": "rQnq_YCOwmnF"
      }
    },
    {
      "cell_type": "markdown",
      "source": [
        "![image.png](data:image/png;base64,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)"
      ],
      "metadata": {
        "id": "IKDGPCrNC62T"
      }
    },
    {
      "cell_type": "markdown",
      "source": [
        "Dando como resultado lo siguiente \n",
        "\n",
        "$T(n) =$ $\\displaystyle \\sum_{j = 1}^{n} {j}{c} $ $ = \\frac{n(n - 1)}{2} $ \n",
        "\n",
        "Al resolver esa sumatoria nos da como resultado el tiempo de ejecucion el cual es $O(n^2)$\n",
        "\n"
      ],
      "metadata": {
        "id": "DFlOMwo2C8gY"
      }
    },
    {
      "cell_type": "markdown",
      "source": [
        "* ***Tiempo de ejecución para version recursiva***"
      ],
      "metadata": {
        "id": "SmBhtE14wmyp"
      }
    },
    {
      "cell_type": "markdown",
      "source": [
        "En cambio para la forma recursiva tenemos que el tiempo de ejecución será el siguiente:\n",
        "\n",
        "$T(n) =$ $\\displaystyle 1 +\\sum_{j = 1}^{n} T(j) $ $ = \\frac{n(n - 1)}{2} $ \n",
        "\n",
        "lo cual da como resultado un tiempo de ejecución de $T(n) = 2^n$"
      ],
      "metadata": {
        "id": "-GUvoIvIH9a8"
      }
    },
    {
      "cell_type": "markdown",
      "source": [
        "# 4) Correctitud Bottom-Up\n"
      ],
      "metadata": {
        "id": "_gflx9wuR0R-"
      }
    },
    {
      "cell_type": "markdown",
      "source": [
        "![image.png](data:image/png;base64,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)"
      ],
      "metadata": {
        "id": "S1zwVUPPQjuR"
      }
    },
    {
      "cell_type": "markdown",
      "source": [
        "Teorema: El algoritmo Corte de Vaarillas en su implementación Bottom-Up entregaa correctamente el valor que maximiza el precio de cortar una varilla de largo $n$\n",
        "\n",
        "Caso Base: Con $n = 0$ el algoritmo retorna $0$, que representa que el largo $0$ tiene un $0$ \n",
        "\n",
        "Caso General: Antes de la iteración $j + 1$, los resultados anteriores están almacenados en $r$ correctamente. Durante la iteración se resuelven los casos $P_1 + r_j, P_2 + r_{j-1},..., P_{j - 1} + r_1$, donde se escoge correctamente laa suma mayor y se almacena en $r[j + 1]$ para su posterior uso en la iteración $j + 2$."
      ],
      "metadata": {
        "id": "q3dwkvOcR3fG"
      }
    },
    {
      "cell_type": "markdown",
      "source": [
        "# 5) Experimentos"
      ],
      "metadata": {
        "id": "ohAgFxCLR37j"
      }
    },
    {
      "cell_type": "code",
      "source": [
        "import random\n",
        "\n",
        "def cutrod_instance_generator(N):\n",
        "  A = []\n",
        "  prev = 0\n",
        "  for i in range(N):\n",
        "    r=random.randint(0,10)\n",
        "    A.append(prev+r)\n",
        "    prev+=r\n",
        "  return A\n",
        "\n",
        "cutrod_instance_generator(15)"
      ],
      "metadata": {
        "colab": {
          "base_uri": "https://localhost:8080/"
        },
        "id": "OYuOI4R5vhX3",
        "outputId": "c90d75ff-47aa-4c51-c03a-f105a74329f1"
      },
      "execution_count": null,
      "outputs": [
        {
          "output_type": "execute_result",
          "data": {
            "text/plain": [
              "[6, 10, 12, 17, 24, 31, 37, 46, 48, 51, 58, 65, 65, 69, 78]"
            ]
          },
          "metadata": {},
          "execution_count": 78
        }
      ]
    },
    {
      "cell_type": "code",
      "source": [
        "import datetime\n",
        "import matplotlib.pyplot as plt\n",
        "import random\n",
        "from math import log\n",
        "from timeit import repeat\n",
        "\n",
        "%matplotlib inline\n",
        "\n",
        "\n",
        "x = []\n",
        "y = []\n",
        "\n",
        "x2 = []\n",
        "y2 = []\n",
        "\n",
        "\n",
        "for n in range(5,20):\n",
        "    a = cutrod_instance_generator(n)\n",
        "    t = repeat(setup=\"from __main__ import revCutRod\", stmt=f\"revCutRod({a}, {len(a)})\", repeat=1, number=10)\n",
        "    x.append(n)\n",
        "    y.append(t)\n",
        "\n",
        "for n2 in range(5,20):\n",
        "    a2 = cutrod_instance_generator(n)\n",
        "    t2 = repeat(setup=\"from __main__ import cutRod\", stmt=f\"cutRod({a2}, {len(a2)})\", repeat=1, number=10)\n",
        "    x2.append(n2)\n",
        "    y2.append(t2)\n",
        "\n",
        "plt.plot(x, y)\n",
        "plt.plot(x2, y2)\n",
        "plt.legend([\"Recursivo\", \"Dinámico\"])\n",
        "\n",
        "plt.xlabel('n')\n",
        "plt.ylabel('time in ms')\n",
        "plt.title(\"Rod Cutting recursivo vs Rod Cutting programación dinámica\")\n",
        "\n",
        "plt.grid()\n",
        "plt.show()"
      ],
      "metadata": {
        "colab": {
          "base_uri": "https://localhost:8080/",
          "height": 295
        },
        "id": "g3HX6uT2NhQ5",
        "outputId": "edcd67a4-3646-4e51-e9e7-49266905a478"
      },
      "execution_count": null,
      "outputs": [
        {
          "output_type": "display_data",
          "data": {
            "text/plain": [
              "<Figure size 432x288 with 1 Axes>"
            ],
            "image/png": "[encoded data removed]"
          },
          "metadata": {
            "needs_background": "light"
          }
        }
      ]
    },
    {
      "cell_type": "markdown",
      "source": [
        "Como se puede apreciar en el grafico la version recursiva del algoritmo corte de varillas presenta un crecimiento notoriamente mas grande en comparación a su version dinamica, lo cual recae es la disposicion de cada algoritmo lo que genera que el tiempo de la version recursiva sea $2^n$ la version dinamica es $n^2$ pero devido al exesivo crecimiento de la recurrencia la version dinamica no se logra apreciar como corresponde."
      ],
      "metadata": {
        "id": "FbLcE3cyOgai"
      }
    },
    {
      "cell_type": "code",
      "source": [
        "def contCutRod(price, n, contador):\n",
        "    val = [0 for x in range(n + 1)]\n",
        "    corte = [0 for x in range(n + 1)]\n",
        "\n",
        "    for i in range(1, n + 1):\n",
        "      max_val = float(\"-inf\")\n",
        "      for j in range(i):\n",
        "          contador +=1\n",
        "          max_val = max(max_val, price[j] + val[i-j-1])\n",
        "          corte[i] = j\n",
        "           \n",
        "      val[i] = max_val \n",
        "\n",
        "    return contador"
      ],
      "metadata": {
        "id": "VIZJ6NyUOgr9"
      },
      "execution_count": null,
      "outputs": []
    },
    {
      "cell_type": "code",
      "source": [
        "x = [n for n in range(5, 500)]\n",
        "y1 = [n*(n-1)/2 for n in range(5, 500)]\n",
        "y = []\n",
        "\n",
        "for n in range(5, 500):\n",
        "    a = cutrod_instance_generator(n)\n",
        "    c = contCutRod(a, len(a), 0)\n",
        "    y.append(c)\n",
        "\n",
        "plt.plot(x, y)\n",
        "plt.plot(x, y1)\n",
        "plt.legend([\"contCutRod\", \"Caso teórico\"])\n",
        "\n",
        "plt.xlabel(\"n\")\n",
        "plt.ylabel(\"Número de operaciones\")\n",
        "plt.show()"
      ],
      "metadata": {
        "colab": {
          "base_uri": "https://localhost:8080/",
          "height": 279
        },
        "id": "wNHPXUKhPEp2",
        "outputId": "d51aca18-29e8-441a-fcd8-65fff690c9c7"
      },
      "execution_count": null,
      "outputs": [
        {
          "output_type": "display_data",
          "data": {
            "text/plain": [
              "<Figure size 432x288 with 1 Axes>"
            ],
            "image/png": "[encoded data removed]"
          },
          "metadata": {
            "needs_background": "light"
          }
        }
      ]
    },
    {
      "cell_type": "markdown",
      "source": [
        "Como se aprecia en el grafico cumple que con la cantidad de repeticiones aumentando presenta una curva del estilo $n^2$ lo cual es precisamente la resolución del tiempo de ejecución teorico, esto como se menciono en el punto 4."
      ],
      "metadata": {
        "id": "SDX7rKNrR_Wf"
      }
    }
  ]
}